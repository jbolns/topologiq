{
 "cells": [
  {
   "cell_type": "markdown",
   "id": "325ca446",
   "metadata": {},
   "source": [
    "# QASM -> PyZX interoperability"
   ]
  },
  {
   "cell_type": "code",
   "execution_count": null,
   "id": "395d6c98",
   "metadata": {},
   "outputs": [],
   "source": [
    "import os\n",
    "import sys\n",
    "import pyzx as zx\n",
    "from pyzx.pauliweb import compute_pauli_webs\n",
    "from qiskit import ClassicalRegister, QuantumCircuit, QuantumRegister\n",
    "import qiskit.qasm2 as qasm2\n",
    "\n",
    "root_folder = os.path.abspath(os.path.join(os.getcwd(), \"..\", \"..\"))\n",
    "if root_folder not in sys.path:\n",
    "    sys.path.insert(0, root_folder)\n",
    "\n",
    "from topologiq.scripts.runner import runner\n",
    "from topologiq.utils.interop_pyzx import pyzx_g_to_simple_g\n",
    "\n",
    "zx.settings.colors = zx.rgb_colors\n",
    "%matplotlib widget"
   ]
  },
  {
   "cell_type": "markdown",
   "id": "47982202",
   "metadata": {},
   "source": [
    "This notebook offers an example of how to use ***topologiq*** to perform an algorithmic lattice surgery on QASM circuits.\n",
    "\n",
    "> *Apologies. I had to \"Clear All Outputs\" from this notebook because it was messing the repository statistics (probably due to the visualisations and lenght of printouts) and, in doing so, misrepresenting ***topologiq***. Please get in touch if you want a pre-run version.*"
   ]
  },
  {
   "cell_type": "markdown",
   "id": "821cc56d",
   "metadata": {},
   "source": [
    "## Qiskit -> QASM"
   ]
  },
  {
   "cell_type": "markdown",
   "id": "22a40b10",
   "metadata": {},
   "source": [
    "Let's start by using Qiskit to produce a QASM string that can undergo algorithmic lattice surgery using ***topologiq***. \n",
    "\n",
    "The first step is to a Qiskit circuit. In our case, we'll opt for a Steane code.\n",
    "\n",
    "PyZX does not (yet?) have some options that would be needed for full QASM-PyZX compatibility. The circuit below is the closest to a circuit that loads successfully into PyZX as a canonical Steane code. However, the resulting PyZX circuit is almost-but-also-not-quite correct."
   ]
  },
  {
   "cell_type": "code",
   "execution_count": null,
   "id": "40057f99",
   "metadata": {},
   "outputs": [],
   "source": [
    "# Thanks [Yilun Zhao](https://github.com/Zhaoyilunnn) for the code and rationale in this block.\n",
    "def steane_encoding() -> QuantumCircuit:\n",
    "    qc = QuantumCircuit(10)\n",
    "\n",
    "    qc.h(0)\n",
    "    qc.cx(0, 3)\n",
    "    qc.cx(0, 4)\n",
    "    qc.cx(0, 5)\n",
    "    qc.cx(0, 6)\n",
    "    qc.h(0)\n",
    "\n",
    "    qc.h(1)\n",
    "    qc.cx(1, 3)\n",
    "    qc.cx(1, 4)\n",
    "    qc.cx(1, 7)\n",
    "    qc.cx(1, 8)\n",
    "    qc.h(1)\n",
    "\n",
    "    qc.h(2)\n",
    "    qc.cx(2, 3)\n",
    "    qc.cx(2, 5)\n",
    "    qc.cx(2, 7)\n",
    "    qc.cx(2, 9)\n",
    "    qc.h(2)\n",
    "\n",
    "    return qc\n",
    "\n",
    "circuit = steane_encoding()\n",
    "print(circuit)"
   ]
  },
  {
   "cell_type": "markdown",
   "id": "41f8a9aa",
   "metadata": {},
   "source": [
    "The circuit can then be converted into a PyZX circuit, which, in turn, can be converted into a PyZX graph."
   ]
  },
  {
   "cell_type": "code",
   "execution_count": null,
   "id": "1a1409f6",
   "metadata": {},
   "outputs": [],
   "source": [
    "# Thanks [Yilun Zhao](https://github.com/Zhaoyilunnn) for the code and rationale in this block.\n",
    "\n",
    "def qiskit2zx(circuit: QuantumCircuit) -> zx.circuit.Circuit:\n",
    "    qasm_str = qasm2.dumps(circuit)\n",
    "    zx_circuit = zx.circuit.Circuit.from_qasm(qasm_str)\n",
    "    return zx_circuit\n",
    "\n",
    "zx_circuit = qiskit2zx(circuit)\n",
    "print(zx_circuit.gates)\n",
    "\n",
    "zx_graph = zx_circuit.to_graph()\n",
    "\n",
    "zx.draw(zx_graph, labels=True)  # PyZX produces Jupyter visualisations using D3.\n",
    "fig_data = zx.draw_matplotlib(zx_graph, labels=True)  # We also need a matplotlib figure to overlay the original ZX-graph over the final visualisation produced by topologiq."
   ]
  },
  {
   "cell_type": "markdown",
   "id": "5d04deea",
   "metadata": {},
   "source": [
    "This circuit/graph is quite large and, because it is almost-but-also-not-quite a correct version of a Steane code, it is currently not possible to optimise it *(see next section for optimisation strategies.)*\n",
    "\n",
    "However, for demonstration purposes, we will run the circuit by topologiq as a means to show topologiq can handle large/unoptimised circuits.\n",
    "\n",
    "For this, we convert the zx_graph into ***topologiq's*** native graph object, a `simple_graph`, and fed this `simple_graph` to the algorithm.\n",
    "\n",
    "> **Note.** If the PyZX graph has additional information like phases or Pauli webs, this step will momentarily lose that information. There are other methods not covered in this notebook to recover and apply this information to outputs."
   ]
  },
  {
   "cell_type": "code",
   "execution_count": null,
   "id": "ff09a790",
   "metadata": {},
   "outputs": [],
   "source": [
    "# CONVERT GRAPH TO TOPOLOGIQ'S NATIVE OBJECT\n",
    "simple_graph = pyzx_g_to_simple_g(zx_graph)\n",
    "\n",
    "# PARAMS & HYPERPARAMS\n",
    "circuit_name = \"steane_from_qiskit\"\n",
    "visualisation = \"final\"  # Calls an interactive 3D visualisation at the end. Change to None to deactivate visualisation.\n",
    "animation = None  # Change to \"GIF\" or \"MP4\" for a summary animation of the full process, at significant cost in runtimes due to the need to create and stitch many PNGs together.\n",
    "VALUE_FUNCTION_HYPERPARAMS = (\n",
    "    -1,  # Weight for lenght of path\n",
    "    -1,  # Weight for number of \"beams\" broken by path\n",
    ")\n",
    "\n",
    "kwargs = {\n",
    "    \"weights\": VALUE_FUNCTION_HYPERPARAMS,\n",
    "    \"length_of_beams\": 9,\n",
    "}\n",
    "\n",
    "simple_graph_after_use, edge_pths, lattice_nodes, lattice_edges = runner(\n",
    "    simple_graph,\n",
    "    circuit_name,\n",
    "    min_succ_rate=60,\n",
    "    strip_ports=False,\n",
    "    hide_ports=False,\n",
    "    max_attempts=10,\n",
    "    stop_on_first_success=True,\n",
    "    visualise=(visualisation, animation),\n",
    "    log_stats=False,\n",
    "    debug=False,\n",
    "    fig_data=fig_data,\n",
    "    **kwargs\n",
    ")"
   ]
  },
  {
   "cell_type": "markdown",
   "id": "853bd00c",
   "metadata": {},
   "source": [
    "## Non-descript QASM -> PyZX with optimisation"
   ]
  },
  {
   "cell_type": "markdown",
   "id": "255eb67d",
   "metadata": {},
   "source": [
    "We'll now switch to a non-descript QASM file written by hand. This non-descript QASM file can be simplified/optimised more easily than the circuit in the previous section.\n",
    "\n",
    "Let's start by loading a compressed QASM file."
   ]
  },
  {
   "cell_type": "code",
   "execution_count": null,
   "id": "d4df799d",
   "metadata": {},
   "outputs": [],
   "source": [
    "# Thanks [Kabir Dubey](https://github.com/KabirDubey) for the QASM file and code/rationale in this block. \n",
    "\n",
    "qasm_file_path = str(os.path.join(root_folder, \"assets/graphs\", \"steane_code_compressed.qasm\"))\n",
    "\n",
    "try:\n",
    "    zx_circuit = zx.Circuit.from_qasm_file(qasm_file_path)\n",
    "except Exception as e:\n",
    "    with open(qasm_file_path, \"r\") as f:\n",
    "        qasm_str = f.read()\n",
    "    zx_circuit = zx.qasm(qasm_str)\n",
    "\n",
    "zx_graph = zx_circuit.to_graph()\n",
    "\n",
    "zx.draw(zx_graph, labels=True)  # PyZX produces Jupyter visualisations using D3.\n",
    "fig_data = zx.draw_matplotlib(zx_graph, labels=True)  # We also need a matplotlib figure to overlay the original ZX-graph over the final visualisation produced by topologiq."
   ]
  },
  {
   "cell_type": "markdown",
   "id": "89fbfa50",
   "metadata": {},
   "source": [
    "Now, let's simplify the graph a little using PyZX native functions."
   ]
  },
  {
   "cell_type": "code",
   "execution_count": null,
   "id": "f4bcb378",
   "metadata": {},
   "outputs": [],
   "source": [
    "# Thanks [Purva Thakre](https://github.com/purva-thakre) for research into and ideas into QASM/PyZX simplifying strategies, which informed choices in this block.\n",
    "\n",
    "# Make a copy to avoid over-writing the imported circuit.\n",
    "zx_graph_optimised_1 = zx_graph.copy()\n",
    "\n",
    "# Auto-simplify using spider fusion method.\n",
    "zx.simplify.spider_simp(zx_graph_optimised_1)\n",
    "\n",
    "zx.draw(zx_graph_optimised_1, labels=True)  # Jupyter visualisations using D3.\n",
    "fig_data = zx.draw_matplotlib(zx_graph_optimised_1, labels=True)  # Fig to overlay in final vis."
   ]
  },
  {
   "cell_type": "markdown",
   "id": "d20812c6",
   "metadata": {},
   "source": [
    "After, we can proceed to running the circuit by ***topologiq***. \n",
    "\n",
    "> **Note.** If the PyZX graph has additional information like phases or Pauli webs, this step will momentarily lose that information. There are other methods not covered in this notebook to recover and apply this information to outputs."
   ]
  },
  {
   "cell_type": "code",
   "execution_count": null,
   "id": "5556b958",
   "metadata": {},
   "outputs": [],
   "source": [
    "# CONVERT GRAPH TO TOPOLOGIQ'S NATIVE OBJECT\n",
    "simple_graph = pyzx_g_to_simple_g(zx_graph_optimised_1)\n",
    "\n",
    "# PARAMS & HYPERPARAMS\n",
    "circuit_name = \"steane_optimised_1\"\n",
    "visualisation = \"final\"  # Calls an interactive 3D visualisation at the end. Change to None to deactivate visualisation.\n",
    "animation = None  # Change to \"GIF\" or \"MP4\" for a summary animation of the full process, at significant cost in runtimes due to the need to create and stitch many PNGs together.\n",
    "VALUE_FUNCTION_HYPERPARAMS = (\n",
    "    -1,  # Weight for lenght of path\n",
    "    -1,  # Weight for number of \"beams\" broken by path\n",
    ")\n",
    "\n",
    "kwargs = {\n",
    "    \"weights\": VALUE_FUNCTION_HYPERPARAMS,\n",
    "    \"length_of_beams\": 9,\n",
    "}\n",
    "\n",
    "simple_graph_after_use, edge_pths, lattice_nodes, lattice_edges = runner(\n",
    "    simple_graph,\n",
    "    circuit_name,\n",
    "    min_succ_rate=80,\n",
    "    strip_ports=False,\n",
    "    hide_ports=False,\n",
    "    max_attempts=10,\n",
    "    stop_on_first_success=True,\n",
    "    visualise=(visualisation, animation),\n",
    "    log_stats=False,\n",
    "    debug=False,\n",
    "    fig_data=fig_data,\n",
    "    **kwargs\n",
    ")"
   ]
  },
  {
   "cell_type": "markdown",
   "id": "6fd24087",
   "metadata": {},
   "source": [
    "We can simplify the circuit even more using ZX-rules manually.\n",
    "\n",
    "PyZX does not have a method to reduce the number of boundaries in an existing graph (does it?). However, we can visualise Pauli webs to get a better understanding of the flows inside this graph. Essentially, this will show how all webs flow from a boundary to the other end of the charts on all connecting nodes running from that boundary. \n",
    "\n",
    "As per [Craig Gidney in StackExchange](https://quantumcomputing.stackexchange.com/questions/40893/what-is-a-stabilizer-flows-in-qec) (I think that's him), we can more or less ignore webs/flows that go straight through the first node they touch into the opposite end of the same qubit line."
   ]
  },
  {
   "cell_type": "code",
   "execution_count": null,
   "id": "70e5143a",
   "metadata": {},
   "outputs": [],
   "source": [
    "# Thanks [Purva Thakre](https://github.com/purva-thakre) for research into and ideas into QASM/PyZX simplifying strategies, which informed choices in this block.\n",
    "zx_graph_optimised_2 = zx_graph_optimised_1.copy()\n",
    "\n",
    "# Get the IDs for end boundaries to calculate webs\n",
    "boundary_ids = [key for key, value in zx_graph_optimised_2.types().items() if value == 0]\n",
    "end_boundary_ids = boundary_ids[zx_graph_optimised_2.qubit_count() :]\n",
    "\n",
    "# Calculate and visualise webs\n",
    "order, zwebs, xwebs = compute_pauli_webs(zx_graph_optimised_2)\n",
    "for id in end_boundary_ids:\n",
    "    zx.draw(zx_graph_optimised_2, labels=True, pauli_web=xwebs[id])\n",
    "    zx.draw(zx_graph_optimised_2, labels=True, pauli_web=zwebs[id])\n",
    "\n",
    "# Eliminate any boundary where the flow can be ignored.\n",
    "for pair in [(0, 14), (1, 15), (2, 16), (3, 17)]:\n",
    "    zx_graph_optimised_2.remove_vertex(pair[0])\n",
    "\n",
    "for pair in [(4, 18), (5, 19), (6, 20)]:\n",
    "    zx_graph_optimised_2.add_edge(zx_graph_optimised_2.edge(pair[1], pair[0]))\n",
    "    zx_graph_optimised_2.remove_vertex(pair[1])\n",
    "\n",
    "zx_graph_optimised_2.normalize()\n",
    "zx.draw(zx_graph_optimised_2, labels=True)  # Jupyter visualisations using D3.\n",
    "fig_data = zx.draw_matplotlib(zx_graph_optimised_2, labels=True)  # Fig to overlay in final vis.\n",
    "\n",
    "# Could this be achieved using a simpler rationale? \n",
    "# Eg. Move boundary past node, then fuse?\n",
    "#for pair in [(0, 14), (1, 15), (2, 16), (3, 17)]:\n",
    "#    zx_graph_optimised_2.add_edge(zx_graph_optimised_2.edge(pair[0], pair[1]))\n",
    "#    zx_graph_optimised_2.remove_vertex(pair[0])\n",
    "#\n",
    "#for pair in [(4, 18), (5, 19), (6, 20)]:\n",
    "#    zx_graph_optimised_2.add_edge(zx_graph_optimised_2.edge(pair[1], pair[0]))\n",
    "#    zx_graph_optimised_2.remove_vertex(pair[1])\n",
    "\n"
   ]
  },
  {
   "cell_type": "markdown",
   "id": "06012600",
   "metadata": {},
   "source": [
    "Let's now run this final optimised version by ***topologiq***."
   ]
  },
  {
   "cell_type": "code",
   "execution_count": null,
   "id": "b76fad67",
   "metadata": {},
   "outputs": [],
   "source": [
    "# CONVERT GRAPH TO TOPOLOGIQ'S NATIVE OBJECT\n",
    "simple_graph = pyzx_g_to_simple_g(zx_graph_optimised_2)\n",
    "\n",
    "# PARAMS & HYPERPARAMS\n",
    "circuit_name = \"steane_optimised_2\"\n",
    "visualisation = \"final\" # # Calls an interactive 3D visualisation at the end. Change to None to deactivate visualisation.\n",
    "animation = None  # Change to \"GIF\" or \"MP4\" for a summary animation of the full process, at significant cost in runtimes due to the need to create and stitch many PNGs together.\n",
    "VALUE_FUNCTION_HYPERPARAMS = (\n",
    "    -1,  # Weight for lenght of path\n",
    "    -1,  # Weight for number of \"beams\" broken by path\n",
    ")\n",
    "\n",
    "kwargs = {\n",
    "    \"weights\": VALUE_FUNCTION_HYPERPARAMS,\n",
    "    \"length_of_beams\": 9,\n",
    "}\n",
    "\n",
    "simple_graph_after_use, edge_pths, lattice_nodes, lattice_edges = runner(\n",
    "    simple_graph,\n",
    "    circuit_name,\n",
    "    min_succ_rate=60,\n",
    "    strip_ports=False,\n",
    "    hide_ports=False,\n",
    "    max_attempts=10,\n",
    "    stop_on_first_success=True,\n",
    "    visualise=(visualisation, animation),\n",
    "    log_stats=False,\n",
    "    debug=False,\n",
    "    fig_data=fig_data,\n",
    "    **kwargs\n",
    ")"
   ]
  },
  {
   "cell_type": "markdown",
   "id": "29308580",
   "metadata": {},
   "source": [
    "And let's print out all the objects returned by ***topologiq*** so that we can inspect them closer."
   ]
  },
  {
   "cell_type": "code",
   "execution_count": null,
   "id": "dff9ace0",
   "metadata": {},
   "outputs": [],
   "source": [
    "print(\"\\nInput graph:\")\n",
    "for k, v in simple_graph_after_use.items():\n",
    "    print(f\"{k}:{v}\")\n",
    "\n",
    "if edge_pths:\n",
    "    print(\"\\nEdge paths:\")\n",
    "    for k, v in edge_pths.items():\n",
    "        print(f\"{k}:{v}\")\n",
    "        \n",
    "if lattice_nodes:\n",
    "    print(\"\\nCubes in final output:\")\n",
    "    for k, v in lattice_nodes.items():\n",
    "        print(f\"{k}:{v}\")\n",
    "\n",
    "if lattice_edges:\n",
    "    print(\"\\nPipes in final output:\")\n",
    "    for k, v in lattice_edges.items():\n",
    "        print(f\"{k}:{v}\")"
   ]
  },
  {
   "cell_type": "markdown",
   "id": "c466d7d0",
   "metadata": {},
   "source": [
    "Finally, for memory's sake, let's shut down any open plots."
   ]
  },
  {
   "cell_type": "code",
   "execution_count": null,
   "id": "893115cf",
   "metadata": {},
   "outputs": [],
   "source": [
    "from matplotlib.pyplot import close\n",
    "close()"
   ]
  }
 ],
 "metadata": {
  "kernelspec": {
   "display_name": ".venv (3.12.6)",
   "language": "python",
   "name": "python3"
  },
  "language_info": {
   "codemirror_mode": {
    "name": "ipython",
    "version": 3
   },
   "file_extension": ".py",
   "mimetype": "text/x-python",
   "name": "python",
   "nbconvert_exporter": "python",
   "pygments_lexer": "ipython3",
   "version": "3.12.6"
  }
 },
 "nbformat": 4,
 "nbformat_minor": 5
}
